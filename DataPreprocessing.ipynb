{
  "nbformat": 4,
  "nbformat_minor": 0,
  "metadata": {
    "colab": {
      "provenance": [],
      "authorship_tag": "ABX9TyNWjwyino0L1xGMXuWgvs8Y",
      "include_colab_link": true
    },
    "kernelspec": {
      "name": "python3",
      "display_name": "Python 3"
    },
    "language_info": {
      "name": "python"
    }
  },
  "cells": [
    {
      "cell_type": "markdown",
      "metadata": {
        "id": "view-in-github",
        "colab_type": "text"
      },
      "source": [
        "<a href=\"https://colab.research.google.com/github/Munna-Prasad-Gupta/Data-Science/blob/main/DataPreprocessing.ipynb\" target=\"_parent\"><img src=\"https://colab.research.google.com/assets/colab-badge.svg\" alt=\"Open In Colab\"/></a>"
      ]
    },
    {
      "cell_type": "code",
      "source": [
        "\n",
        "# For JIO\n",
        "\n",
        "import pandas as pd\n",
        "\n",
        "# Load the data\n",
        "df1 = pd.read_excel(\"youtubecomments.xlsx\")\n",
        "l1 = ['COMMENTS', 'website', 'sentimantation']\n",
        "filtered_df1 = df1[df1['jio_label'].apply(lambda x: pd.to_numeric(x, errors='coerce')).notna()]\n",
        "filtered_df1 = filtered_df1[l1]  # Keep only the selected columns\n",
        "filtered_df1.to_csv('file1.csv')\n",
        "\n",
        "# For Airtel\n",
        "import pandas as pd\n",
        "\n",
        "df = pd.read_excel(\"youtubecomments.xlsx\")\n",
        "\n",
        "li =['COMMENTS','website','sentimantation']\n",
        "filtered_df1 = df[df['airtel_label'].apply(lambda x: pd.to_numeric(x, errors='coerce')).notna()]\n",
        "filtered_df1 = filtered_df1[li]\n",
        "filtered_df1.to_csv('file1.csv')\n",
        "\n",
        "# For Vodafone\n",
        "\n",
        "import pandas as pd\n",
        "df= pd.read_excel(\"youtubecomments.xlsx\")\n",
        "\n",
        "li =['COMMENTS','website','sentimantation']\n",
        "filtered_df1 = df[df['vodafone_label'].apply(lambda x: pd.to_numeric(x, errors='coerce')).notna()]\n",
        "\n",
        "filtered_df1 = filtered_df1[li]\n",
        "filtered_df1.to_csv('file1.csv')"
      ],
      "metadata": {
        "id": "gMq7ubZot-rA"
      },
      "execution_count": null,
      "outputs": []
    },
    {
      "cell_type": "code",
      "source": [
        "!pip install transformers torch\n",
        "\n",
        "from transformers import pipeline\n",
        "\n",
        "\n",
        "# For JIO\n",
        "df = pd.read_excel('in2.xlsx')\n",
        "df['website'] = 'instagram'\n",
        "\n",
        "\n",
        "sentiment_model = pipeline(\"sentiment-analysis\", model=\"distilbert-base-uncased-finetuned-sst-2-english\")\n",
        "\n",
        "df['Sentiment'] = df['Comment'].apply(lambda x: 1 if sentiment_model(x)[0]['label'] == 'POSITIVE' else -1)\n",
        "\n",
        "li =['Comment','website','Sentiment']\n",
        "\n",
        "filtered_df = df[df['Jio'] != 0]\n",
        "filtered_df = filtered_df[li]\n",
        "filtered_df.to_csv('file2.csv')\n",
        "\n",
        "# For AIRTEL\n",
        "df = pd.read_excel('in2.xlsx')\n",
        "df['website'] = 'instagram'\n",
        "\n",
        "\n",
        "comments_df = df['Comment']\n",
        "sentiment_model = pipeline(\"sentiment-analysis\", model=\"distilbert-base-uncased-finetuned-sst-2-english\")\n",
        "\n",
        "df['Sentiment'] = df['Comment'].apply(lambda x: 1 if sentiment_model(x)[0]['label'] == 'POSITIVE' else -1)\n",
        "\n",
        "li =['Comment','website','Sentiment']\n",
        "\n",
        "\n",
        "filtered_df = df[df['Airtel'] != 0]\n",
        "filtered_df = filtered_df[li]\n",
        "filtered_df.to_csv('file2.csv')\n",
        "\n",
        "# For VODAFONE\n",
        "\n",
        "\n",
        "df = pd.read_excel('in2.xlsx')\n",
        "df['website'] = 'instagram'\n",
        "\n",
        "\n",
        "comments_df = df['Comment']\n",
        "sentiment_model = pipeline(\"sentiment-analysis\", model=\"distilbert-base-uncased-finetuned-sst-2-english\")\n",
        "\n",
        "df['Sentiment'] = df['Comment'].apply(lambda x: 1 if sentiment_model(x)[0]['label'] == 'POSITIVE' else -1)\n",
        "\n",
        "li =['Comment','website','Sentiment']\n",
        "\n",
        "\n",
        "filtered_df = df[df['Vi'] != 0]\n",
        "filtered_df = filtered_df[li]\n",
        "filtered_df.to_csv('file2.csv')"
      ],
      "metadata": {
        "colab": {
          "base_uri": "https://localhost:8080/"
        },
        "id": "kzU8ueb_v8fm",
        "outputId": "400257b9-5840-4d5f-cd72-30be39789633"
      },
      "execution_count": null,
      "outputs": [
        {
          "output_type": "stream",
          "name": "stdout",
          "text": [
            "Requirement already satisfied: transformers in /usr/local/lib/python3.10/dist-packages (4.44.2)\n",
            "Requirement already satisfied: torch in /usr/local/lib/python3.10/dist-packages (2.4.1+cu121)\n",
            "Requirement already satisfied: filelock in /usr/local/lib/python3.10/dist-packages (from transformers) (3.16.1)\n",
            "Requirement already satisfied: huggingface-hub<1.0,>=0.23.2 in /usr/local/lib/python3.10/dist-packages (from transformers) (0.24.7)\n",
            "Requirement already satisfied: numpy>=1.17 in /usr/local/lib/python3.10/dist-packages (from transformers) (1.26.4)\n",
            "Requirement already satisfied: packaging>=20.0 in /usr/local/lib/python3.10/dist-packages (from transformers) (24.1)\n",
            "Requirement already satisfied: pyyaml>=5.1 in /usr/local/lib/python3.10/dist-packages (from transformers) (6.0.2)\n",
            "Requirement already satisfied: regex!=2019.12.17 in /usr/local/lib/python3.10/dist-packages (from transformers) (2024.9.11)\n",
            "Requirement already satisfied: requests in /usr/local/lib/python3.10/dist-packages (from transformers) (2.32.3)\n",
            "Requirement already satisfied: safetensors>=0.4.1 in /usr/local/lib/python3.10/dist-packages (from transformers) (0.4.5)\n",
            "Requirement already satisfied: tokenizers<0.20,>=0.19 in /usr/local/lib/python3.10/dist-packages (from transformers) (0.19.1)\n",
            "Requirement already satisfied: tqdm>=4.27 in /usr/local/lib/python3.10/dist-packages (from transformers) (4.66.5)\n",
            "Requirement already satisfied: typing-extensions>=4.8.0 in /usr/local/lib/python3.10/dist-packages (from torch) (4.12.2)\n",
            "Requirement already satisfied: sympy in /usr/local/lib/python3.10/dist-packages (from torch) (1.13.3)\n",
            "Requirement already satisfied: networkx in /usr/local/lib/python3.10/dist-packages (from torch) (3.3)\n",
            "Requirement already satisfied: jinja2 in /usr/local/lib/python3.10/dist-packages (from torch) (3.1.4)\n",
            "Requirement already satisfied: fsspec in /usr/local/lib/python3.10/dist-packages (from torch) (2024.6.1)\n",
            "Requirement already satisfied: MarkupSafe>=2.0 in /usr/local/lib/python3.10/dist-packages (from jinja2->torch) (2.1.5)\n",
            "Requirement already satisfied: charset-normalizer<4,>=2 in /usr/local/lib/python3.10/dist-packages (from requests->transformers) (3.3.2)\n",
            "Requirement already satisfied: idna<4,>=2.5 in /usr/local/lib/python3.10/dist-packages (from requests->transformers) (3.10)\n",
            "Requirement already satisfied: urllib3<3,>=1.21.1 in /usr/local/lib/python3.10/dist-packages (from requests->transformers) (2.2.3)\n",
            "Requirement already satisfied: certifi>=2017.4.17 in /usr/local/lib/python3.10/dist-packages (from requests->transformers) (2024.8.30)\n",
            "Requirement already satisfied: mpmath<1.4,>=1.1.0 in /usr/local/lib/python3.10/dist-packages (from sympy->torch) (1.3.0)\n"
          ]
        },
        {
          "output_type": "stream",
          "name": "stderr",
          "text": [
            "/usr/local/lib/python3.10/dist-packages/transformers/tokenization_utils_base.py:1601: FutureWarning: `clean_up_tokenization_spaces` was not set. It will be set to `True` by default. This behavior will be depracted in transformers v4.45, and will be then set to `False` by default. For more details check this issue: https://github.com/huggingface/transformers/issues/31884\n",
            "  warnings.warn(\n"
          ]
        }
      ]
    },
    {
      "cell_type": "code",
      "source": [
        "import pandas as pd\n",
        "df = pd.read_excel('insta.xlsx')\n",
        "df['website'] = 'instagram'\n",
        "sentiment_model = pipeline(\"sentiment-analysis\", model=\"distilbert-base-uncased-finetuned-sst-2-english\")\n",
        "df['Sentiment'] = df['Comment'].apply(lambda x: 1 if sentiment_model(x)[0]['label'] == 'POSITIVE' else -1)\n",
        "\n",
        "li =['Comment','website','Sentiment']\n",
        "\n",
        "df = df[li]\n",
        "\n",
        "# Define keywords for each label\n",
        "airtel_keywords = ['airtel']\n",
        "jio_keywords = ['jio']\n",
        "vodafone_keywords = ['vi', 'vodafone']\n",
        "\n",
        "# Function to assign label based on keywords\n",
        "def assign_label(comment):\n",
        "    comment_lower = comment.lower()\n",
        "    if any(keyword in comment_lower for keyword in airtel_keywords):\n",
        "        return 'airtel'\n",
        "    elif any(keyword in comment_lower for keyword in jio_keywords):\n",
        "        return 'jio'\n",
        "    elif any(keyword in comment_lower for keyword in vodafone_keywords):\n",
        "        return 'vodafone'\n",
        "    else:\n",
        "        return 'unknown'\n",
        "\n",
        "# Apply the label assignment function to each comment\n",
        "df['Label'] = df['Comment'].apply(assign_label)\n",
        "\n",
        "# FOR JIO\n",
        "\n",
        "filtered_df = df[df['Label'] == 'jio']\n",
        "fdf = filtered_df.drop('Label',axis = 1)\n",
        "fdf.to_csv('file3.csv')\n",
        "\n",
        "\n",
        "# FOR AIRTEL\n",
        "\n",
        "filtered_df = df[df['Label'] == 'airtel']\n",
        "fdf = filtered_df.drop('Label',axis = 1)\n",
        "fdf.to_csv('file3.csv')\n",
        "\n",
        "# FOR VODAFONE\n",
        "\n",
        "filtered_df = df[df['Label'] == 'vodafone']\n",
        "fdf = filtered_df.drop('Label',axis=1)\n",
        "fdf.to_csv('file3.csv')"
      ],
      "metadata": {
        "colab": {
          "base_uri": "https://localhost:8080/"
        },
        "id": "JrL59v7KEE0r",
        "outputId": "6edb3952-405a-40d9-ed72-357f0a27e1ac"
      },
      "execution_count": null,
      "outputs": [
        {
          "output_type": "stream",
          "name": "stderr",
          "text": [
            "/usr/local/lib/python3.10/dist-packages/transformers/tokenization_utils_base.py:1601: FutureWarning: `clean_up_tokenization_spaces` was not set. It will be set to `True` by default. This behavior will be depracted in transformers v4.45, and will be then set to `False` by default. For more details check this issue: https://github.com/huggingface/transformers/issues/31884\n",
            "  warnings.warn(\n",
            "<ipython-input-47-139ae081b72f>:42: SettingWithCopyWarning: \n",
            "A value is trying to be set on a copy of a slice from a DataFrame.\n",
            "Try using .loc[row_indexer,col_indexer] = value instead\n",
            "\n",
            "See the caveats in the documentation: https://pandas.pydata.org/pandas-docs/stable/user_guide/indexing.html#returning-a-view-versus-a-copy\n",
            "  df['Label'] = df['Comment'].apply(assign_label)\n"
          ]
        }
      ]
    },
    {
      "cell_type": "code",
      "source": [
        "import pandas as pd\n",
        "\n",
        "df = pd.read_csv('final1_data.csv')\n",
        "li = ['TweetText','website']\n",
        "\n",
        "df = df[li]\n",
        "\n",
        "# df\n",
        "sentiment_model = pipeline(\"sentiment-analysis\", model=\"distilbert-base-uncased-finetuned-sst-2-english\")\n",
        "df['Sentiment'] = df['TweetText'].apply(lambda x: 1 if sentiment_model(x)[0]['label'] == 'POSITIVE' else -1)\n",
        "# df\n",
        "\n",
        "airtel_keywords = ['airtel']\n",
        "jio_keywords = ['jio']\n",
        "vodafone_keywords = ['vi', 'vodafone']\n",
        "\n",
        "# Function to assign label based on keywords\n",
        "def assign_label(comment):\n",
        "    comment_lower = comment.lower()\n",
        "    if any(keyword in comment_lower for keyword in airtel_keywords):\n",
        "        return 'airtel'\n",
        "    elif any(keyword in comment_lower for keyword in jio_keywords):\n",
        "        return 'jio'\n",
        "    elif any(keyword in comment_lower for keyword in vodafone_keywords):\n",
        "        return 'vodafone'\n",
        "    else:\n",
        "        return 'unknown'\n",
        "\n",
        "# Apply the label assignment function to each comment\n",
        "df['Label'] = df['TweetText'].apply(assign_label)\n",
        "\n",
        "# FOR JIO\n",
        "filtered_df = df[df['Label'] == 'jio']\n",
        "fdf = filtered_df.drop('Label',axis = 1)\n",
        "fdf.to_csv('file4.csv')\n",
        "\n",
        "# FOR AIRTEL\n",
        "\n",
        "filtered_df = df[df['Label'] == 'airtel']\n",
        "fdf = filtered_df.drop('Label',axis = 1)\n",
        "fdf.to_csv('file4.csv')\n",
        "\n",
        "# FOR VODAFONE\n",
        "\n",
        "filtered_df = df[df['Label'] == 'vodafone']\n",
        "fdf = filtered_df.drop('Label',axis=1)\n",
        "fdf.to_csv('file4.csv')"
      ],
      "metadata": {
        "colab": {
          "base_uri": "https://localhost:8080/"
        },
        "id": "8_PHL7rhFwvO",
        "outputId": "994a3a87-6d6b-45a7-fca4-a731bd38e62f"
      },
      "execution_count": null,
      "outputs": [
        {
          "output_type": "stream",
          "name": "stderr",
          "text": [
            "/usr/local/lib/python3.10/dist-packages/transformers/tokenization_utils_base.py:1601: FutureWarning: `clean_up_tokenization_spaces` was not set. It will be set to `True` by default. This behavior will be depracted in transformers v4.45, and will be then set to `False` by default. For more details check this issue: https://github.com/huggingface/transformers/issues/31884\n",
            "  warnings.warn(\n"
          ]
        }
      ]
    },
    {
      "cell_type": "code",
      "source": [
        "import pandas as  pd\n",
        "\n",
        "df = pd.read_excel('5g experience survey.xlsx')\n",
        "df['website'] ='survey'\n",
        "\n",
        "\n",
        "sentiment_model = pipeline(\"sentiment-analysis\", model=\"distilbert-base-uncased-finetuned-sst-2-english\")\n",
        "df['Sentiment'] = df['HOW IS YOUR EXPERIENCE WITH 5G ?'].apply(lambda x: 1 if sentiment_model(x)[0]['label'] == 'POSITIVE' else -1)\n",
        "li = ['HOW IS YOUR EXPERIENCE WITH 5G ?','website','Sentiment']\n",
        "\n",
        "# FOR JIO\n",
        "df =df[df['CHOOSE THE SIM CARD YOU USE'] == 'JIO']\n",
        "df =df[li]\n",
        "df.to_csv('file5.csv')\n",
        "\n",
        "#FOR AIRTEL\n",
        "df =df[df['CHOOSE THE SIM CARD YOU USE'] == 'AIRTEL']\n",
        "df =df[li]\n",
        "df.to_csv('file5.csv')\n",
        "\n",
        "# FOR VODAFONE\n",
        "\n",
        "df =df[df['CHOOSE THE SIM CARD YOU USE'] == 'VODAFONE']\n",
        "df =df[li]\n",
        "df.to_csv('file5.csv')\n",
        "\n"
      ],
      "metadata": {
        "colab": {
          "base_uri": "https://localhost:8080/"
        },
        "id": "d48xE2GjG-gl",
        "outputId": "e400f983-f9fb-4718-bf47-2c0226337a41"
      },
      "execution_count": null,
      "outputs": [
        {
          "output_type": "stream",
          "name": "stderr",
          "text": [
            "/usr/local/lib/python3.10/dist-packages/transformers/tokenization_utils_base.py:1601: FutureWarning: `clean_up_tokenization_spaces` was not set. It will be set to `True` by default. This behavior will be depracted in transformers v4.45, and will be then set to `False` by default. For more details check this issue: https://github.com/huggingface/transformers/issues/31884\n",
            "  warnings.warn(\n"
          ]
        }
      ]
    },
    {
      "cell_type": "code",
      "source": [
        "import pandas as pd\n",
        "\n",
        "df1 = pd.read_csv('file1.csv')\n",
        "df2 = pd.read_csv('file2.csv')\n",
        "df3 = pd.read_csv('file3.csv')\n",
        "df4 = pd.read_csv('file4.csv')\n",
        "df5 = pd.read_csv('file5.csv')\n",
        "\n",
        "\n",
        "\n",
        "df1 =df1[['COMMENTS', 'website', 'sentimantation']]\n",
        "df1.rename(columns={'COMMENTS': 'Comment',\n",
        "                    'website':'Website',\n",
        "                    'sentimantation':'Sentiment'}, inplace=True)\n",
        "\n",
        "df2 =df2[['Comment', 'website', 'Sentiment']]\n",
        "df2.rename(columns={'Comment': 'Comment',\n",
        "                    'website':'Website',\n",
        "                    'Sentiment':'Sentiment'}, inplace=True)\n",
        "\n",
        "\n",
        "df3.rename(columns={\n",
        "    'website':'Website'\n",
        "},inplace=True)\n",
        "df3 = df3[['Comment','Website','Sentiment']]\n",
        "\n",
        "df4.rename(columns={\n",
        "    'website':'Website'\n",
        "},inplace=True)\n",
        "df4 = df4[['Comment','Website','Sentiment']]\n",
        "\n",
        "# df4\n",
        "\n",
        "df5.rename(columns ={\n",
        "  'HOW IS YOUR EXPERIENCE WITH 5G ?':'Comment',\n",
        "  'website':'Website'\n",
        "},inplace=True)\n",
        "\n",
        "df5 = df5[['Comment','Website','Sentiment']]\n",
        "# df5\n",
        "\n",
        "# Concatenate all DataFrames\n",
        "merged_df = pd.concat([df1, df2, df3, df4, df5], ignore_index=True)\n",
        "\n",
        "\n",
        "# FOR JIO\n",
        "merged_df['Company'] ='Jio'\n",
        "merged_df.to_csv('Jio_Comments.csv')\n",
        "\n",
        "# FOR AIRTEL\n",
        "merged_df['Company'] ='Airtel'\n",
        "merged_df.to_csv('Airtel_Comments.csv')\n",
        "\n",
        "# for VODAFONE\n",
        "merged_df['Company'] ='Vodafone'\n",
        "merged_df.to_csv('Vodafone_Comments.csv')"
      ],
      "metadata": {
        "id": "x3nh195RN_YH"
      },
      "execution_count": null,
      "outputs": []
    }
  ]
}